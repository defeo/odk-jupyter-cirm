{
 "cells": [
  {
   "cell_type": "code",
   "execution_count": 14,
   "metadata": {},
   "outputs": [],
   "source": [
    "from ipyleaflet import Map, Marker, GeoJSON, basemaps, basemap_to_tiles\n",
    "import json"
   ]
  },
  {
   "cell_type": "markdown",
   "metadata": {},
   "source": [
    "## A map of CIRM and the *Calanques*"
   ]
  },
  {
   "cell_type": "code",
   "execution_count": 15,
   "metadata": {},
   "outputs": [
    {
     "data": {
      "application/vnd.jupyter.widget-view+json": {
       "model_id": "2962c2b0bbbf4303ad0623bf8072e8f9",
       "version_major": 2,
       "version_minor": 0
      },
      "text/plain": [
       "Map(basemap={'url': 'https://{s}.tile.openstreetmap.org/{z}/{x}/{y}.png', 'max_zoom': 19, 'attribution': 'Map …"
      ]
     },
     "metadata": {},
     "output_type": "display_data"
    }
   ],
   "source": [
    "m = Map(center=[43.22969541537021, 5.443071126937867], zoom=14)\n",
    "m"
   ]
  },
  {
   "cell_type": "markdown",
   "metadata": {},
   "source": [
    "Where is CIRM?"
   ]
  },
  {
   "cell_type": "code",
   "execution_count": 16,
   "metadata": {},
   "outputs": [],
   "source": [
    "cirm = Marker(location=m.center, draggable=False, title=\"CIRM\")\n",
    "m.add_layer(cirm)"
   ]
  },
  {
   "cell_type": "markdown",
   "metadata": {},
   "source": [
    "Maybe you prefer to draw hiking trails more prominently"
   ]
  },
  {
   "cell_type": "code",
   "execution_count": 17,
   "metadata": {},
   "outputs": [],
   "source": [
    "hiking = basemap_to_tiles(basemaps.HikeBike['HikeBike'])\n",
    "m.add_layer(hiking)"
   ]
  },
  {
   "cell_type": "markdown",
   "metadata": {},
   "source": [
    "Let's have a look at a nice hike: climbing to the *Mont Puget*, then coming back via the *calanque du Devenson* (19km, allow 6 hours)"
   ]
  },
  {
   "cell_type": "code",
   "execution_count": 18,
   "metadata": {},
   "outputs": [],
   "source": [
    "with open('puget+devenson.geojson', 'r') as f:\n",
    "    data = json.load(f)\n",
    "    devenson = GeoJSON(data=data)\n",
    "    m.add_layer(devenson)\n",
    "    m.zoom = 13"
   ]
  },
  {
   "cell_type": "markdown",
   "metadata": {},
   "source": [
    "And now, a classic: to *Cassis* via the *calanque de l'œil de verre* (15km, allow 4-5 hours, some bouldering at l'œil de verre)"
   ]
  },
  {
   "cell_type": "code",
   "execution_count": 19,
   "metadata": {},
   "outputs": [],
   "source": [
    "m.remove_layer(devenson)\n",
    "with open('cassis-via-œil-de-verre.geojson', 'r') as f:\n",
    "    data = json.load(f)\n",
    "    devenson = GeoJSON(data=data, style={ 'color': 'red' })\n",
    "    m.add_layer(devenson)\n",
    "    m.zoom = 12"
   ]
  },
  {
   "cell_type": "markdown",
   "metadata": {},
   "source": [
    "Finally, the loop we did on Wed!"
   ]
  },
  {
   "cell_type": "code",
   "execution_count": 20,
   "metadata": {},
   "outputs": [],
   "source": [
    "m.remove_layer(devenson)\n",
    "with open('Oeil de verre.geojson', 'r') as f:\n",
    "    data = json.load(f)\n",
    "    devenson = GeoJSON(data=data)\n",
    "    m.add_layer(devenson)\n",
    "    m.zoom = 14\n",
    "    m.center = [43.21881293313418, 5.453896522521973]\n"
   ]
  },
  {
   "cell_type": "code",
   "execution_count": null,
   "metadata": {},
   "outputs": [],
   "source": []
  }
 ],
 "metadata": {
  "kernelspec": {
   "display_name": "Python 3",
   "language": "python",
   "name": "python3"
  },
  "language_info": {
   "codemirror_mode": {
    "name": "ipython",
    "version": 3
   },
   "file_extension": ".py",
   "mimetype": "text/x-python",
   "name": "python",
   "nbconvert_exporter": "python",
   "pygments_lexer": "ipython3",
   "version": "3.6.7"
  }
 },
 "nbformat": 4,
 "nbformat_minor": 2
}
